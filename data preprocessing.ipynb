{
 "cells": [
  {
   "cell_type": "code",
   "execution_count": 24,
   "metadata": {},
   "outputs": [],
   "source": [
    "import os\n",
    "import pandas as pd\n",
    "import numpy as np\n",
    "import math\n",
    "import datetime as dt\n",
    "import matplotlib.pyplot as plt\n",
    "import seaborn as sns\n",
    "\n",
    "from sklearn.preprocessing import StandardScaler, MinMaxScaler"
   ]
  },
  {
   "cell_type": "code",
   "execution_count": 25,
   "metadata": {},
   "outputs": [],
   "source": [
    "ticker = 'AAPL'\n",
    "freq = '1d'"
   ]
  },
  {
   "cell_type": "code",
   "execution_count": 26,
   "metadata": {},
   "outputs": [
    {
     "data": {
      "text/html": [
       "<div>\n",
       "<style scoped>\n",
       "    .dataframe tbody tr th:only-of-type {\n",
       "        vertical-align: middle;\n",
       "    }\n",
       "\n",
       "    .dataframe tbody tr th {\n",
       "        vertical-align: top;\n",
       "    }\n",
       "\n",
       "    .dataframe thead th {\n",
       "        text-align: right;\n",
       "    }\n",
       "</style>\n",
       "<table border=\"1\" class=\"dataframe\">\n",
       "  <thead>\n",
       "    <tr style=\"text-align: right;\">\n",
       "      <th></th>\n",
       "      <th>open</th>\n",
       "      <th>high</th>\n",
       "      <th>low</th>\n",
       "      <th>close</th>\n",
       "      <th>volume</th>\n",
       "      <th>datetime</th>\n",
       "      <th>width</th>\n",
       "      <th>sma</th>\n",
       "      <th>ema</th>\n",
       "      <th>rsi</th>\n",
       "      <th>roc</th>\n",
       "      <th>diff</th>\n",
       "      <th>perc_diff</th>\n",
       "    </tr>\n",
       "  </thead>\n",
       "  <tbody>\n",
       "    <tr>\n",
       "      <th>0</th>\n",
       "      <td>5.86301</td>\n",
       "      <td>5.96680</td>\n",
       "      <td>5.82384</td>\n",
       "      <td>5.92842</td>\n",
       "      <td>8.771742e+08</td>\n",
       "      <td>2010-02-01 00:00:00</td>\n",
       "      <td>0.796227</td>\n",
       "      <td>6.303707</td>\n",
       "      <td>6.140772</td>\n",
       "      <td>38.187350</td>\n",
       "      <td>-0.073205</td>\n",
       "      <td>0.08175</td>\n",
       "      <td>1.398232</td>\n",
       "    </tr>\n",
       "    <tr>\n",
       "      <th>1</th>\n",
       "      <td>5.96451</td>\n",
       "      <td>5.97677</td>\n",
       "      <td>5.88704</td>\n",
       "      <td>5.96201</td>\n",
       "      <td>8.186530e+08</td>\n",
       "      <td>2010-02-02 00:00:00</td>\n",
       "      <td>0.825675</td>\n",
       "      <td>6.276047</td>\n",
       "      <td>6.108270</td>\n",
       "      <td>40.684413</td>\n",
       "      <td>-0.057242</td>\n",
       "      <td>0.03359</td>\n",
       "      <td>0.566593</td>\n",
       "    </tr>\n",
       "    <tr>\n",
       "      <th>2</th>\n",
       "      <td>5.94437</td>\n",
       "      <td>6.09511</td>\n",
       "      <td>5.91874</td>\n",
       "      <td>6.06500</td>\n",
       "      <td>7.205451e+08</td>\n",
       "      <td>2010-02-03 00:00:00</td>\n",
       "      <td>0.810868</td>\n",
       "      <td>6.252977</td>\n",
       "      <td>6.100402</td>\n",
       "      <td>41.122589</td>\n",
       "      <td>-0.054197</td>\n",
       "      <td>0.10299</td>\n",
       "      <td>1.727438</td>\n",
       "    </tr>\n",
       "    <tr>\n",
       "      <th>3</th>\n",
       "      <td>5.99312</td>\n",
       "      <td>6.03958</td>\n",
       "      <td>5.83250</td>\n",
       "      <td>5.84647</td>\n",
       "      <td>8.869241e+08</td>\n",
       "      <td>2010-02-04 00:00:00</td>\n",
       "      <td>0.870970</td>\n",
       "      <td>6.224190</td>\n",
       "      <td>6.054233</td>\n",
       "      <td>37.635942</td>\n",
       "      <td>-0.082957</td>\n",
       "      <td>-0.21853</td>\n",
       "      <td>-3.603133</td>\n",
       "    </tr>\n",
       "    <tr>\n",
       "      <th>4</th>\n",
       "      <td>5.86581</td>\n",
       "      <td>5.96680</td>\n",
       "      <td>5.81028</td>\n",
       "      <td>5.95035</td>\n",
       "      <td>9.965172e+08</td>\n",
       "      <td>2010-02-05 00:00:00</td>\n",
       "      <td>0.885137</td>\n",
       "      <td>6.201165</td>\n",
       "      <td>6.035345</td>\n",
       "      <td>42.548420</td>\n",
       "      <td>-0.050781</td>\n",
       "      <td>0.10388</td>\n",
       "      <td>1.776799</td>\n",
       "    </tr>\n",
       "  </tbody>\n",
       "</table>\n",
       "</div>"
      ],
      "text/plain": [
       "      open     high      low    close        volume             datetime  \\\n",
       "0  5.86301  5.96680  5.82384  5.92842  8.771742e+08  2010-02-01 00:00:00   \n",
       "1  5.96451  5.97677  5.88704  5.96201  8.186530e+08  2010-02-02 00:00:00   \n",
       "2  5.94437  6.09511  5.91874  6.06500  7.205451e+08  2010-02-03 00:00:00   \n",
       "3  5.99312  6.03958  5.83250  5.84647  8.869241e+08  2010-02-04 00:00:00   \n",
       "4  5.86581  5.96680  5.81028  5.95035  9.965172e+08  2010-02-05 00:00:00   \n",
       "\n",
       "      width       sma       ema        rsi       roc     diff  perc_diff  \n",
       "0  0.796227  6.303707  6.140772  38.187350 -0.073205  0.08175   1.398232  \n",
       "1  0.825675  6.276047  6.108270  40.684413 -0.057242  0.03359   0.566593  \n",
       "2  0.810868  6.252977  6.100402  41.122589 -0.054197  0.10299   1.727438  \n",
       "3  0.870970  6.224190  6.054233  37.635942 -0.082957 -0.21853  -3.603133  \n",
       "4  0.885137  6.201165  6.035345  42.548420 -0.050781  0.10388   1.776799  "
      ]
     },
     "execution_count": 26,
     "metadata": {},
     "output_type": "execute_result"
    }
   ],
   "source": [
    "df = pd.read_csv(f'data/{ticker}/{freq}_features.csv')\n",
    "df.columns = df.columns.str.lower()\n",
    "df.head()"
   ]
  },
  {
   "cell_type": "code",
   "execution_count": 23,
   "metadata": {},
   "outputs": [
    {
     "data": {
      "text/plain": [
       "[<matplotlib.lines.Line2D at 0x7786d11e4950>]"
      ]
     },
     "execution_count": 23,
     "metadata": {},
     "output_type": "execute_result"
    },
    {
     "data": {
      "image/png": "[encoded data removed]",
      "text/plain": [
       "<Figure size 640x480 with 1 Axes>"
      ]
     },
     "metadata": {},
     "output_type": "display_data"
    }
   ],
   "source": [
    "plt.plot(df['close'])"
   ]
  },
  {
   "cell_type": "code",
   "execution_count": 4,
   "metadata": {},
   "outputs": [],
   "source": [
    "scale_type = 'minmax'\n",
    "if scale_type == 'standard':\n",
    "    scaler = StandardScaler()\n",
    "elif scale_type == 'minmax':\n",
    "    scaler = MinMaxScaler()"
   ]
  },
  {
   "cell_type": "code",
   "execution_count": 27,
   "metadata": {},
   "outputs": [],
   "source": [
    "train = df[:int(0.6*len(df))]\n",
    "val = df[int(0.6*len(df)):int(0.8*len(df))]\n",
    "test = df[int(0.8*len(df)):]"
   ]
  },
  {
   "cell_type": "code",
   "execution_count": 6,
   "metadata": {},
   "outputs": [],
   "source": [
    "df.drop(['open', 'high', 'low', 'diff'], axis=1, inplace=True)\n",
    "df['close'] = np.log(df['close'])\n",
    "df['sma'] = np.log(df['sma'])\n",
    "df['ema'] = np.log(df['ema'])"
   ]
  },
  {
   "cell_type": "code",
   "execution_count": 7,
   "metadata": {},
   "outputs": [],
   "source": [
    "df_scaled = scaler.fit_transform(df.drop(columns=['datetime']))\n",
    "train_scaled = df_scaled[:int(0.6*len(df))]\n",
    "val_scaled = df_scaled[int(0.6*len(df)):int(0.8*len(df))]\n",
    "test_scaled = df_scaled[int(0.8*len(df)):]"
   ]
  },
  {
   "cell_type": "code",
   "execution_count": 8,
   "metadata": {},
   "outputs": [],
   "source": [
    "df.describe().to_csv(f'data/{ticker}/{freq}_info.csv')"
   ]
  },
  {
   "cell_type": "code",
   "execution_count": 10,
   "metadata": {},
   "outputs": [],
   "source": [
    "train_scaled = pd.DataFrame(train_scaled,\n",
    "                            columns=['close', 'volume', 'width', 'sma', 'ema', 'rsi', 'roc', 'perc_diff'])\n",
    "val_scaled = pd.DataFrame(val_scaled,\n",
    "                          columns=['close', 'volume', 'width', 'sma', 'ema', 'rsi', 'roc', 'perc_diff'])\n",
    "test_scaled = pd.DataFrame(test_scaled,\n",
    "                           columns=['close', 'volume', 'width', 'sma', 'ema', 'rsi', 'roc', 'perc_diff'])"
   ]
  },
  {
   "cell_type": "code",
   "execution_count": 11,
   "metadata": {},
   "outputs": [],
   "source": [
    "train_scaled['datetime'] = train['datetime'].values\n",
    "val_scaled['datetime'] = val['datetime'].values\n",
    "test_scaled['datetime'] = test['datetime'].values"
   ]
  },
  {
   "cell_type": "code",
   "execution_count": 12,
   "metadata": {},
   "outputs": [
    {
     "data": {
      "text/plain": [
       "(2215, 738, 739)"
      ]
     },
     "execution_count": 12,
     "metadata": {},
     "output_type": "execute_result"
    }
   ],
   "source": [
    "len(train_scaled), len(val_scaled), len(test_scaled)"
   ]
  },
  {
   "cell_type": "code",
   "execution_count": 13,
   "metadata": {},
   "outputs": [],
   "source": [
    "train_scaled.to_csv(f'data/{ticker}/{freq}_{scale_type}_train.csv', index=False)\n",
    "val_scaled.to_csv(f'data/{ticker}/{freq}_{scale_type}_val.csv', index=False)\n",
    "test_scaled.to_csv(f'data/{ticker}/{freq}_{scale_type}_test.csv', index=False)"
   ]
  }
 ],
 "metadata": {
  "kernelspec": {
   "display_name": "ldm",
   "language": "python",
   "name": "python3"
  },
  "language_info": {
   "codemirror_mode": {
    "name": "ipython",
    "version": 3
   },
   "file_extension": ".py",
   "mimetype": "text/x-python",
   "name": "python",
   "nbconvert_exporter": "python",
   "pygments_lexer": "ipython3",
   "version": "3.12.4"
  }
 },
 "nbformat": 4,
 "nbformat_minor": 2
}
